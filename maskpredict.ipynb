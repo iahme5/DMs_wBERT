{
 "cells": [
  {
   "cell_type": "code",
   "execution_count": 13,
   "id": "fb8f35aa-0504-49d6-bf4e-4a61a96e0744",
   "metadata": {},
   "outputs": [
    {
     "data": {
      "text/plain": [
       "True"
      ]
     },
     "execution_count": 13,
     "metadata": {},
     "output_type": "execute_result"
    }
   ],
   "source": [
    "import os\n",
    "\n",
    "os.path.exists('fine_tuned_model')"
   ]
  },
  {
   "cell_type": "code",
   "execution_count": 16,
   "id": "33fce9f3-8fc2-419d-9b38-5b1e41bebe3e",
   "metadata": {},
   "outputs": [
    {
     "name": "stderr",
     "output_type": "stream",
     "text": [
      "Some weights of BertForMaskedLM were not initialized from the model checkpoint at fine_tuned_model and are newly initialized: ['cls.predictions.bias', 'cls.predictions.decoder.bias', 'cls.predictions.transform.LayerNorm.bias', 'cls.predictions.transform.LayerNorm.weight', 'cls.predictions.transform.dense.bias', 'cls.predictions.transform.dense.weight']\n",
      "You should probably TRAIN this model on a down-stream task to be able to use it for predictions and inference.\n"
     ]
    },
    {
     "name": "stdout",
     "output_type": "stream",
     "text": [
      "Predicted tokens for mask 1: ['rover', 'gui', 'kw', 'vans']\n"
     ]
    }
   ],
   "source": [
    "from transformers import BertTokenizer, BertForMaskedLM\n",
    "import torch\n",
    "import re\n",
    "\n",
    "tokenizer = BertTokenizer.from_pretrained('fine_tuned_model')\n",
    "model = BertForMaskedLM.from_pretrained('fine_tuned_model')\n",
    "\n",
    "sentence = \"No wonder, I am just a [MASK]\"\n",
    "inputs = tokenizer(sentence, return_tensors=\"pt\")\n",
    "\n",
    "with torch.no_grad():\n",
    "    outputs = model(**inputs)\n",
    "predictions = outputs.logits\n",
    "\n",
    "masked_indices = (inputs.input_ids == tokenizer.mask_token_id).nonzero(as_tuple=True)[1]\n",
    "\n",
    "def is_word(token):\n",
    "    return re.match(\"^[a-zA-Z]+$\", token) is not None\n",
    "\n",
    "for idx, masked_index in enumerate(masked_indices):\n",
    "    top_predictions = predictions[0, masked_index].topk(20).indices\n",
    "    top_tokens = [tokenizer.decode(pred_id).strip() for pred_id in top_predictions]\n",
    "    filtered_tokens = [token for token in top_tokens if is_word(token)]\n",
    "    \n",
    "    print(f\"Predicted tokens for mask {idx + 1}: {filtered_tokens}\")\n"
   ]
  },
  {
   "cell_type": "code",
   "execution_count": null,
   "id": "e1698e3f-e187-45fd-aac9-acee22337f0f",
   "metadata": {},
   "outputs": [],
   "source": []
  }
 ],
 "metadata": {
  "kernelspec": {
   "display_name": "Python 3 (ipykernel)",
   "language": "python",
   "name": "python3"
  },
  "language_info": {
   "codemirror_mode": {
    "name": "ipython",
    "version": 3
   },
   "file_extension": ".py",
   "mimetype": "text/x-python",
   "name": "python",
   "nbconvert_exporter": "python",
   "pygments_lexer": "ipython3",
   "version": "3.12.8"
  }
 },
 "nbformat": 4,
 "nbformat_minor": 5
}
